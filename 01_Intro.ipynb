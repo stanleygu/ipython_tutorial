{
 "metadata": {
  "signature": "sha256:08694262eb613dccc65bcb4ec0386b49de6cb664e9018b19107577e257e96322"
 },
 "nbformat": 3,
 "nbformat_minor": 0,
 "worksheets": [
  {
   "cells": [
    {
     "cell_type": "heading",
     "level": 1,
     "metadata": {},
     "source": [
      "Introduction to using IPython Notebook"
     ]
    },
    {
     "cell_type": "markdown",
     "metadata": {},
     "source": [
      "IPython Notebook is a web-based, interactive, computational environment that combines code execution, output, and media/annotations.\n",
      "\n",
      "Each Notebook file is a JSON-based format for sharing Python source code with rich formatting.\n",
      "\n",
      "First, let's take tour of the user interface. On the menu, click **`Help > User Interface Tour`**."
     ]
    },
    {
     "cell_type": "heading",
     "level": 1,
     "metadata": {},
     "source": [
      "Key Concepts"
     ]
    },
    {
     "cell_type": "markdown",
     "metadata": {},
     "source": [
      "* **Kernel**\n",
      "\n",
      "Each open notebook is connected to one IPython kernel, which is the underlying process that executes code sent by the user and communicate back results. This kernel remains active if the web browser window is closed, so all previously loaded variables will stay in memory. The main menu contains commands to stop and start the kernel.\n",
      "\n",
      "* **Cells**\n",
      "\n",
      "    A multi-line text input field, and its contents can be executed by using **`Shift-Enter`**, or by clicking either the **`Play`** button the toolbar, or **`Cell > Run`** in the menu bar.\n",
      "\n",
      "  * **Markdown Cells**\n",
      "  \n",
      "    You can document the computational process in a literate way, alternating descriptive text with code, using rich text. In IPython this is accomplished by marking up text with the Markdown language. The corresponding cells are called Markdown cells. The Markdown language provides a simple way to perform this text markup, that is, to specify which parts of the text should be emphasized (italics), bold, form lists, etc.\n",
      "\n",
      "    When a Markdown cell is executed, the Markdown code is converted into the corresponding formatted rich text. Markdown allows arbitrary HTML code for formatting.\n",
      "\n",
      "    Within Markdown cells, you can also include mathematics in a straightforward way, using standard LaTeX notation: `$...$` for inline mathematics and `$$...$$` for displayed mathematics. When the Markdown cell is executed, the LaTeX portions are automatically rendered in the HTML output as equations with high quality typography.\n",
      "    \n",
      "    For example here, is the rendering of `$$c = \\sqrt{a^2 + b^2}$$`:\n",
      "    $$c = \\sqrt{a^2 + b^2}$$\n",
      "  \n",
      "  * **Code Cells**\n",
      "  \n",
      "    A code cell allows you to edit and write new code, with full syntax highlighting and tab completion.\n",
      "\n",
      "    When a code cell is executed, code that it contains is sent to the kernel associated with the notebook. The results that are returned from this computation are then displayed in the notebook as the cell\u2019s output. The output is not limited to text, with many other possible forms of output are also possible, including matplotlib figures and HTML tables\n",
      "\n",
      "* ****"
     ]
    },
    {
     "cell_type": "markdown",
     "metadata": {},
     "source": [
      "[nbviewer link](http://nbviewer.ipython.org/github/stanleygu/ipython_tutorial/blob/master/01_Intro.ipynb)"
     ]
    }
   ],
   "metadata": {}
  }
 ]
}