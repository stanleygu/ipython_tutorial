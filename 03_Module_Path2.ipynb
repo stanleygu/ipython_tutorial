{
 "metadata": {
  "signature": "sha256:19fccc655e7df5e02d100a968aa19435cb7194f56c5b42414bc53bdaf42893a2"
 },
 "nbformat": 3,
 "nbformat_minor": 0,
 "worksheets": [
  {
   "cells": [
    {
     "cell_type": "code",
     "collapsed": false,
     "input": [],
     "language": "python",
     "metadata": {},
     "outputs": []
    }
   ],
   "metadata": {}
  }
 ]
}