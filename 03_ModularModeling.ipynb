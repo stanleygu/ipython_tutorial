{
 "metadata": {
  "signature": "sha256:458e9804b369436bf3cf0aa2735fce2a6ca17b4b6a6d00f9b536a78f7e590df9"
 },
 "nbformat": 3,
 "nbformat_minor": 0,
 "worksheets": [
  {
   "cells": [
    {
     "cell_type": "markdown",
     "metadata": {},
     "source": [
      "# Loading Notebooks are modules "
     ]
    },
    {
     "cell_type": "code",
     "collapsed": false,
     "input": [
      "import notebooktools\n",
      "notebooktools.loadNotebooksAsModules()\n",
      "\n",
      "notebooktools.sideBySideOutput()"
     ],
     "language": "python",
     "metadata": {},
     "outputs": [
      {
       "output_type": "stream",
       "stream": "stdout",
       "text": [
        "\n",
        "For side-by-side output, add this to a new cell:\n",
        "\n",
        "%%html\n",
        "<style>div.cell{box-orient:horizontal;flex-direction:row;}div.cell *{width:100%;}div.prompt{width:80px;}</style>\n",
        "\n"
       ]
      }
     ],
     "prompt_number": 6
    },
    {
     "cell_type": "code",
     "collapsed": false,
     "input": [
      "%%html\n",
      "<style>div.cell{box-orient:horizontal;flex-direction:row;}div.cell *{width:100%;}div.prompt{width:80px;}</style>"
     ],
     "language": "python",
     "metadata": {},
     "outputs": [
      {
       "html": [
        "<style>div.cell{box-orient:horizontal;flex-direction:row;}div.cell *{width:100%;}div.prompt{width:80px;}</style>"
       ],
       "metadata": {},
       "output_type": "display_data",
       "text": [
        "<IPython.core.display.HTML at 0x30fe6d0>"
       ]
      }
     ],
     "prompt_number": 7
    },
    {
     "cell_type": "code",
     "collapsed": false,
     "input": [
      "import"
     ],
     "language": "python",
     "metadata": {},
     "outputs": []
    }
   ],
   "metadata": {}
  }
 ]
}